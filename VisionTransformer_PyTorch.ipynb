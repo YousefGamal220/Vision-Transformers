{
  "nbformat": 4,
  "nbformat_minor": 0,
  "metadata": {
    "colab": {
      "name": "VisionTransformer_PyTorch.ipynb",
      "provenance": []
    },
    "kernelspec": {
      "name": "python3",
      "display_name": "Python 3"
    },
    "language_info": {
      "name": "python"
    },
    "accelerator": "GPU"
  },
  "cells": [
    {
      "cell_type": "code",
      "metadata": {
        "id": "A6IKuvRKLAyd"
      },
      "source": [
        "import torch\n",
        "import torch.nn as nn\n",
        "import torch.optim as optim\n",
        "import torchvision\n",
        "from tqdm import tqdm"
      ],
      "execution_count": 73,
      "outputs": []
    },
    {
      "cell_type": "markdown",
      "metadata": {
        "id": "5A8CP2zhL0LC"
      },
      "source": [
        "<img src = \"https://editor.analyticsvidhya.com/uploads/35004Vit.png\">"
      ]
    },
    {
      "cell_type": "code",
      "metadata": {
        "id": "aUVefxwby5fv"
      },
      "source": [
        "class PatchEmbedding(nn.Module):\n",
        "    def __init__(self, image_size, patch_size, input_channels = 3, embedding_dims = 768):\n",
        "        super(PatchEmbedding, self).__init__()\n",
        "        '''\n",
        "            image_size: the size of tha image assuming that the image is square aka height = width\n",
        "            patch_size: Size of the batch assuming that it is square\n",
        "            input_channel: 1 for grey_scale, 3 for RGB Channels\n",
        "            embedding_dims: the dimension of the embedding layer\n",
        "        '''\n",
        "        self.image_size = image_size\n",
        "        self.patch_size = patch_size\n",
        "        self.input_channels = input_channels\n",
        "        self.embedding_dims = embedding_dims\n",
        "        \n",
        "        self.num_patches = (self.image_size // self.patch_size) ** 2 \n",
        "        self.projection = nn.Conv2d(self.input_channels, self.embedding_dims, kernel_size=self.patch_size, stride=self.patch_size)\n",
        "    \n",
        "    def forward(self, x):\n",
        "        # x shape: (n_samples, input_channels, image_size, image_size) -> both image_size for height and width\n",
        "        projection = self.projection(x) # shape (n_samples, embedding_dim, sqrt(n_patches), sqrt(n_patches))\n",
        "        projection = projection.flatten(2) # shape (n_samples, embedding_dim, n_patches)\n",
        "        projection = projection.transpose(1, 2) # shape (n_samples, n_patches, embedding_dim)\n",
        "        return projection\n",
        "\n"
      ],
      "execution_count": 2,
      "outputs": []
    },
    {
      "cell_type": "code",
      "metadata": {
        "id": "JeyuheBM1hX8"
      },
      "source": [
        "class AttentionModel(nn.Module):\n",
        "    def __init__(self, dim, num_heads, include_bias, attention_dropout = 0.5, projection_dropout = 0.5):\n",
        "        super(AttentionModel, self).__init__()\n",
        "        '''\n",
        "            dim: Input/Output dimensions\n",
        "            num_heads: number of heads of the attention\n",
        "            include_bias: bool variable to include bias or not for query, key, and value of the attention\n",
        "            attention_dropout: probability of dropout for the attention \n",
        "            projection_dropout: robability of dropout for the projection (Patch Embedding Layer)\n",
        "        '''\n",
        "        self.dim = dim\n",
        "        self.num_heads = num_heads\n",
        "        self.include_bias = include_bias\n",
        "        self.attention_dropout = attention_dropout\n",
        "        self.projection_dropout = projection_dropout\n",
        "        \n",
        "        self.head_dim = dim // num_heads\n",
        "        self.scale = self.head_dim ** -0.5\n",
        "\n",
        "        self.linear_layer = nn.Linear(dim, dim * 3, bias = include_bias) # Linear Mapping take in token embedding and generate query, key and a value (reason for dim * 3)\n",
        "        self.projection = nn.Linear(dim, dim)\n",
        "\n",
        "        self.attention_drop = nn.Dropout(self.attention_dropout)\n",
        "        self.projection_drop = nn.Dropout(self.projection_dropout)\n",
        "    \n",
        "    def forward(self, x):\n",
        "        # x shape: (n_samples, n_patches + 1, dim) [num_patches +1 for the 0 class token (from the paper)]\n",
        "        \n",
        "        # Extract the dimensions:\n",
        "        n_samples, n_tokens, dim = x.shape\n",
        "        linear = self.linear_layer(x) # shape: (n_samples, n_patches + 1, dim * 3)\n",
        "        linear = linear.reshape(n_samples, n_tokens, 3, self.num_heads, self.head_dim) # shape: (n_samples, n_tokens, 3, num_heads, head_dim) \n",
        "        linear = linear.permute(2, 0, 3, 1, 4) # shape: (3, n_samples, num_heads,  n_patches + 1, head_dim) # To Extract query, key, value\n",
        "        query = linear[0]\n",
        "        key = linear[1]\n",
        "        value = linear[2]\n",
        "\n",
        "        key_transpose = key.transpose(-2, -1) # Shape (num_samples, num_heads, head_dim, n_patches + 1)\n",
        "        query_key = (query @ key_transpose) * self.scale # From Attention all you Need [Transformers]\n",
        "        attention = query_key.softmax(dim = -1) # (n_samples, n_heads, n_patches + 1, ) To Generate a discrete probability distribution that sums up to one for [weighted average]\n",
        "        attention = self.attention_drop(attention)\n",
        "        weighted_average = attention @ value\n",
        "        weighted_average_transpose = weighted_average.transpose(1, 2)\n",
        "        weighted_average_flat = weighted_average_transpose.flatten(2) # To Flat the last 2 dimensions [For concatination] shape:(n_samples, n_patches + 1, head_dim)\n",
        "        output = self.projection(weighted_average_flat) # shape: (n_samples, n_patches+1, dim)\n",
        "        output = self.projection_drop(output)\n",
        "\n",
        "        return output\n"
      ],
      "execution_count": 58,
      "outputs": []
    },
    {
      "cell_type": "code",
      "metadata": {
        "id": "MA9RxevU7pU-"
      },
      "source": [
        "class MLP(nn.Module):\n",
        "    def __init__(self, in_features, hidden_features, out_features, dropout_p = 0.5):\n",
        "        super(MLP, self).__init__()\n",
        "\n",
        "        self.in_features = in_features\n",
        "        self.hidden_features = hidden_features\n",
        "        self.out_features = out_features\n",
        "\n",
        "        # Neural Network \n",
        "        self.layer1 = nn.Linear(in_features, self.hidden_features)\n",
        "        self.gelu = nn.GELU()\n",
        "        self.linear2 = nn.Linear(self.hidden_features, out_features)\n",
        "        self.drop = nn.Dropout(dropout_p)\n",
        "    \n",
        "    def forward(self, x):\n",
        "        # x shape: (n_samples, n_patches + 1, in_features)\n",
        "        linear1 = self.layer1(x)\n",
        "        gelu = self.gelu(linear1)\n",
        "        gelu = self.drop(gelu)\n",
        "        linear2 = self.linear2(gelu)\n",
        "        output = self.drop(linear2)\n",
        "        return output"
      ],
      "execution_count": 59,
      "outputs": []
    },
    {
      "cell_type": "markdown",
      "metadata": {
        "id": "s9KYIzhX-C6x"
      },
      "source": [
        "**Layer Normalization**\n",
        "<br>\n",
        "For each layer $ {h_i} $ \n",
        "<br>\n",
        "$h_i := \\frac{g}{\\sigma} (h_i - \\mu)$   $\\ \\ [\\mu = 0, \\sigma = 1]$"
      ]
    },
    {
      "cell_type": "code",
      "metadata": {
        "id": "1OG5PXEq9Lay"
      },
      "source": [
        "class BuildingBlock(nn.Module):\n",
        "    def __init__(self, dim, num_heads, mlp_ratio = 4.0, include_bias = True, dropout_p = 0.5, attention_p = 0.5):\n",
        "        super(BuildingBlock, self).__init__()\n",
        "        self.norm1 = nn.LayerNorm(dim, eps=1e-6)\n",
        "        self.attention = AttentionModel(dim, num_heads, include_bias, attention_p, dropout_p)\n",
        "        self.norm2 = nn.LayerNorm(dim, eps = 1e-6)\n",
        "\n",
        "        self.hidden_features = int(dim * mlp_ratio)\n",
        "\n",
        "        self.mlp = MLP(dim, self.hidden_features, dim)\n",
        "\n",
        "    def forward(self, x):\n",
        "        # x shape: (n_samples, n_patches + 1, dim)\n",
        "        x = x + self.attention(self.norm1(x)) # x = x + [for Resedual Connection]\n",
        "        x = x + self.mlp(self.norm2(x))\n",
        "        return x"
      ],
      "execution_count": 60,
      "outputs": []
    },
    {
      "cell_type": "code",
      "metadata": {
        "id": "7daCj59S_8zE"
      },
      "source": [
        "class VisionTransformer(nn.Module):\n",
        "    def __init__(self, image_size=384, patch_size=16, input_channels=3, num_classes=1000, embedding_dims=768, depth=12, num_heads=12, mlp_ratio=4.0, include_bias = True, dropout_p = 0.5, attention_p = 0.5):\n",
        "        super(VisionTransformer, self).__init__()\n",
        "        self.patch_embedding = PatchEmbedding(image_size, patch_size, input_channels, embedding_dims) # instance of patch embedding model\n",
        "        self.cls = nn.Parameter(torch.zeros(1, 1, embedding_dims))\n",
        "        self.positional_embeddings = nn.Parameter(torch.zeros(1, 1 + self.patch_embedding.num_patches, embedding_dims)) # to get the exact position of a given patch in the image\n",
        "        self.pos_drop = nn.Dropout(dropout_p)\n",
        "\n",
        "        self.blocks = nn.ModuleList([ BuildingBlock(embedding_dims, num_heads, mlp_ratio, include_bias, dropout_p, attention_p) for transformer in range(depth) ])\n",
        "\n",
        "        self.norm = nn.LayerNorm(embedding_dims, eps=1e-6)\n",
        "        self.head = nn.Linear(embedding_dims, num_classes)\n",
        "\n",
        "    def forward(self, x):\n",
        "        # x shape: (n_samples, in_channels, img_size, img_size)\n",
        "        n_samples = x.shape[0]\n",
        "        x = self.patch_embedding(x)\n",
        "        cls = self.cls.expand(n_samples, -1, -1) # shape: (n_samples, 1, embedding_dims)\n",
        "        x = torch.cat((cls, x), dim = 1) # Concatination -> shape(n_samples, 1 + n_patches, embedding_dims)\n",
        "        x = x + self.positional_embeddings\n",
        "        x = self.pos_drop(x)\n",
        "\n",
        "        for block in self.blocks:\n",
        "            x = block(x)\n",
        "        cls_final = x[:, 0]\n",
        "\n",
        "        x = self.head(cls_final)\n",
        "\n",
        "        return x"
      ],
      "execution_count": 61,
      "outputs": []
    },
    {
      "cell_type": "code",
      "metadata": {
        "id": "MwYmLOCvDZCx"
      },
      "source": [
        "def train(vision_transformer_model, epochs, learning_rate, dataset):\n",
        "    optimizer = optim.Adagrad(vision_transformer_model.parameters(), lr=learning_rate)\n",
        "    critation = nn.CrossEntropyLoss()\n",
        "    losses = []\n",
        "\n",
        "    for epoch in tqdm(range(epochs)):\n",
        "        for x, y in zip(dataset.dataset.data, dataset.dataset.targets):\n",
        "            \n",
        "            x = torch.tensor(x)\n",
        "            x = x.view(1, x.shape[0], x.shape[1], x.shape[2])\n",
        "            x = x.permute(0, 3, 1, 2)\n",
        "            optimizer.zero_grad()\n",
        "            y_hat = vision_transformer_model(x.float())\n",
        "            y = torch.tensor([y])\n",
        "            loss = critation(y_hat, y)\n",
        "            losses.append(loss)\n",
        "            loss.backward()\n",
        "            optimizer.step()\n",
        "    return losses"
      ],
      "execution_count": 76,
      "outputs": []
    },
    {
      "cell_type": "code",
      "metadata": {
        "id": "qhZVis31E-cS"
      },
      "source": [
        "vision_transformer = VisionTransformer(image_size = 32, num_classes = 10)"
      ],
      "execution_count": 77,
      "outputs": []
    },
    {
      "cell_type": "code",
      "metadata": {
        "colab": {
          "base_uri": "https://localhost:8080/"
        },
        "id": "bphjEpaoFCuf",
        "outputId": "a7ea4d5a-797b-4c3e-e71b-7e6dcf4e3109"
      },
      "source": [
        "!mkdir cifar\n",
        "cifar_data = torchvision.datasets.CIFAR100('/content/cifar', download = True)\n",
        "data_loader = torch.utils.data.DataLoader(cifar_data,\n",
        "                                          batch_size=4,\n",
        "                                          shuffle=True)"
      ],
      "execution_count": 29,
      "outputs": [
        {
          "output_type": "stream",
          "text": [
            "Files already downloaded and verified\n"
          ],
          "name": "stdout"
        }
      ]
    },
    {
      "cell_type": "code",
      "metadata": {
        "id": "5f04FLX1GH31"
      },
      "source": [
        "EPOCHS = 50\n",
        "LEARNING_RATE = 1e-3"
      ],
      "execution_count": 31,
      "outputs": []
    },
    {
      "cell_type": "code",
      "metadata": {
        "colab": {
          "base_uri": "https://localhost:8080/"
        },
        "id": "c05_AH8gG-cC",
        "outputId": "b70bf80a-2b25-41f3-ce54-1cd13228dc3e"
      },
      "source": [
        "losses = train(vision_transformer, EPOCHS, LEARNING_RATE, data_loader)"
      ],
      "execution_count": null,
      "outputs": [
        {
          "output_type": "stream",
          "text": [
            "\r  0%|          | 0/50 [00:00<?, ?it/s]"
          ],
          "name": "stderr"
        }
      ]
    },
    {
      "cell_type": "code",
      "metadata": {
        "id": "NPOU6S2bLFlZ"
      },
      "source": [
        ""
      ],
      "execution_count": null,
      "outputs": []
    }
  ]
}